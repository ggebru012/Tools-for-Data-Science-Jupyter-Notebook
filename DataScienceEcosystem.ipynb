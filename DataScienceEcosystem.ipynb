{
 "cells": [
  {
   "cell_type": "markdown",
   "id": "6625d6c7",
   "metadata": {},
   "source": []
  },
  {
   "cell_type": "markdown",
   "id": "dfe5b0d1",
   "metadata": {},
   "source": [
    "# Data Science and Ecosystem"
   ]
  },
  {
   "cell_type": "markdown",
   "id": "ae1b1b76",
   "metadata": {},
   "source": [
    "## In this notebook, Data Science Tools and Ecosystem are summarized."
   ]
  },
  {
   "cell_type": "markdown",
   "id": "bd967063",
   "metadata": {},
   "source": [
    "### Objectives:\n",
    "\n",
    "    - Popular DS Languages\n",
    "    - Commonly used DS Libraries\n",
    "    - Data Science Tools\n",
    "    - Arithmetic Expression Examples in Python"
   ]
  },
  {
   "cell_type": "markdown",
   "id": "ec7bd5c1",
   "metadata": {},
   "source": [
    "#### Some of the popular languages that Data Scientists use are:\n",
    "1. Python\n",
    "2. R\n",
    "3. C++"
   ]
  },
  {
   "cell_type": "markdown",
   "id": "149671ec",
   "metadata": {},
   "source": [
    "#### Some of the commonly used libraries used by Data Scientists include:\n",
    "\n",
    "1. Matplotlib\n",
    "2. Pandas\n",
    "3. Pytorch"
   ]
  },
  {
   "cell_type": "markdown",
   "id": "aff4852c",
   "metadata": {},
   "source": [
    "| Data Science Tools |\n",
    "|-|\n",
    "| JupyterLab |\n",
    "| RStudio |\n",
    "| Knime |\n"
   ]
  },
  {
   "cell_type": "markdown",
   "id": "ef9c1030",
   "metadata": {},
   "source": [
    "### Below are a few examples of evaluating arithmetic expressions in Python"
   ]
  },
  {
   "cell_type": "code",
   "execution_count": 1,
   "id": "7db8a928",
   "metadata": {},
   "outputs": [
    {
     "data": {
      "text/plain": [
       "17"
      ]
     },
     "execution_count": 1,
     "metadata": {},
     "output_type": "execute_result"
    }
   ],
   "source": [
    "# This a simple arithmetic expression to mutiply then add integers\n",
    "(3*4)+5"
   ]
  },
  {
   "cell_type": "code",
   "execution_count": 3,
   "id": "cfabd381",
   "metadata": {},
   "outputs": [
    {
     "data": {
      "text/plain": [
       "3.3333333333333335"
      ]
     },
     "execution_count": 3,
     "metadata": {},
     "output_type": "execute_result"
    }
   ],
   "source": [
    " # This will convert 200 minutes to hours by diving by 60\n",
    "200/60"
   ]
  },
  {
   "cell_type": "markdown",
   "id": "f176b9ef",
   "metadata": {},
   "source": [
    "## Author\n",
    "Gabriel"
   ]
  },
  {
   "cell_type": "code",
   "execution_count": null,
   "id": "73e0e050",
   "metadata": {},
   "outputs": [],
   "source": []
  }
 ],
 "metadata": {
  "kernelspec": {
   "display_name": "Python 3 (ipykernel)",
   "language": "python",
   "name": "python3"
  },
  "language_info": {
   "codemirror_mode": {
    "name": "ipython",
    "version": 3
   },
   "file_extension": ".py",
   "mimetype": "text/x-python",
   "name": "python",
   "nbconvert_exporter": "python",
   "pygments_lexer": "ipython3",
   "version": "3.10.9"
  }
 },
 "nbformat": 4,
 "nbformat_minor": 5
}
